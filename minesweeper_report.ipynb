{
  "cells": [
    {
      "cell_type": "markdown",
      "metadata": {},
      "source": [
        "# Report: CSP and Probabilistic Reasoning for Minesweeper\n",
        "\n",
        "## Introduction\n",
        "The goal of this project is to design and evaluate an intelligent agent capable of solving the game of Minesweeper using CSP and PB paradigms. Minesweeper is a puzzle game that combines elements of constraint satisfaction, probabilistic reasoning, and search. Due to its inherent uncertainty and combinatorial complexity, it serves as a valuable testbed for AI strategies.\n",
        "\n",
        "This work implements and compares five different setups of agents:\n",
        "- **Random Agent**\n",
        "- **Backtracking agent: an agent that uses plain Backtracking algorithm**\n",
        "- **Advanced agent: Backtracking + Minimum Remaining Values (MRV) with Degree Heuristic and Least Constraining Value (LCV)**\n",
        "- **GAC3 agent: an Advanced agent that uses also Generalized Arc Consistency algorithm**\n",
        "- **PB agent: an agent that uses all the techniques above + Probabilistic Reasoning when inference isn't enough**\n",
        "\n",
        "The performance of the agents is assessed in terms of win rate, average number of revealed cells, average time per game."
      ]
    },
    {
      "cell_type": "markdown",
      "metadata": {},
      "source": [
        "## Related Works\n",
        "The Minesweeper problem can be modeled as a Constraint Satisfaction Problem (CSP). In the literature, common techniques include:\n",
        "\n",
        "- Backtracking with heuristics (such as MRV, LCV, and Degree heuristic) to reduce the search space.\n",
        "\n",
        "- Forward Checking and Arc Consistency, which help prune inconsistent assignments early, improving efficiency compared to plain backtracking.\n",
        "\n",
        "However, Minesweeper inherently involves ambiguous situations where pure logical deduction is insufficient. In such cases, we propose the use of probabilistic reasoning, estimating the likelihood that a given cell contains a mine and selecting the safest move accordingly.\n",
        "\n",
        "In summary, related works highlight a combination of deterministic CSP approaches and probabilistic methods, which provide the theoretical foundation for the agents developed in this project."
      ]
    },
    {
      "cell_type": "markdown",
      "metadata": {},
      "source": [
        "## Methodologies\n"
      ]
    },
    {
      "cell_type": "markdown",
      "metadata": {},
      "source": [
        "## Assessment\n"
      ]
    },
    {
      "cell_type": "markdown",
      "metadata": {},
      "source": [
        "## Conclusion\n"
      ]
    }
  ],
  "metadata": {
    "kernelspec": {
      "display_name": "Python 3",
      "language": "python",
      "name": "python3"
    },
    "language_info": {
      "name": "python",
      "version": "3.10"
    }
  },
  "nbformat": 4,
  "nbformat_minor": 5
}
